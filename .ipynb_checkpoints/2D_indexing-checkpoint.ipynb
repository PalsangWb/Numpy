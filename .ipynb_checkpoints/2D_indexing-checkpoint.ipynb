{
 "cells": [
  {
   "cell_type": "code",
   "execution_count": 26,
   "id": "82d927a0-7ba5-482f-accb-9e5875ea455c",
   "metadata": {},
   "outputs": [],
   "source": [
    "import numpy as np"
   ]
  },
  {
   "cell_type": "code",
   "execution_count": null,
   "id": "00b732b8-58fd-4e27-9a0a-ac63b6ff0ffa",
   "metadata": {},
   "outputs": [],
   "source": [
    "# 1D (dimensional)\n",
    "'''arr = np.array([1, 2, 3, 4])\n",
    "'''"
   ]
  },
  {
   "cell_type": "code",
   "execution_count": 23,
   "id": "83e411a0-76cb-47bf-93c7-7779102531b0",
   "metadata": {},
   "outputs": [],
   "source": [
    "arr = np.array([[1, 2, 3],   #2D (dimensional)\n",
    "                [4, 5, 6],\n",
    "                [7, 8, 9]])"
   ]
  },
  {
   "cell_type": "code",
   "execution_count": 8,
   "id": "b9d1b136-b609-4be7-aa57-cd3cc49c17ed",
   "metadata": {},
   "outputs": [
    {
     "name": "stdout",
     "output_type": "stream",
     "text": [
      "[[1 2 3]\n",
      " [4 5 6]\n",
      " [7 8 9]]\n"
     ]
    }
   ],
   "source": [
    "print(arr)"
   ]
  },
  {
   "cell_type": "code",
   "execution_count": 9,
   "id": "9fe96eb0-d415-46b7-a079-698d9b925a25",
   "metadata": {},
   "outputs": [
    {
     "name": "stdout",
     "output_type": "stream",
     "text": [
      "[12 15 18]\n"
     ]
    }
   ],
   "source": [
    "print(np.sum(arr, axis = 0)) #axis=0: Refers to the \"vertical\" direction (along rows, down the columns)"
   ]
  },
  {
   "cell_type": "code",
   "execution_count": 10,
   "id": "677e49e9-7426-4d4a-8d75-c7b484b9a0f4",
   "metadata": {},
   "outputs": [
    {
     "name": "stdout",
     "output_type": "stream",
     "text": [
      "[ 6 15 24]\n"
     ]
    }
   ],
   "source": [
    "print(np.sum(arr, axis = 1)) #axis=1: Refers to the \"horizontal\" direction (along columns, across the rows)"
   ]
  },
  {
   "cell_type": "code",
   "execution_count": 18,
   "id": "8ab481ad-33ea-4869-ba66-fd4bfc799167",
   "metadata": {},
   "outputs": [
    {
     "name": "stdout",
     "output_type": "stream",
     "text": [
      "6\n"
     ]
    }
   ],
   "source": [
    "print(arr[1,2]) #row index 1 and column index 2 (Intersection point will be the output)"
   ]
  },
  {
   "cell_type": "code",
   "execution_count": 19,
   "id": "3fc94400-a81e-4273-bf48-47b4911c66ee",
   "metadata": {},
   "outputs": [
    {
     "name": "stdout",
     "output_type": "stream",
     "text": [
      "5\n"
     ]
    }
   ],
   "source": [
    "print(arr[1,1]) #row index 1 and column index 1"
   ]
  },
  {
   "cell_type": "code",
   "execution_count": 22,
   "id": "f8a4fb72-15f5-416e-86e7-60854b8a48a4",
   "metadata": {},
   "outputs": [
    {
     "name": "stdout",
     "output_type": "stream",
     "text": [
      "[[2 3]\n",
      " [5 6]]\n"
     ]
    }
   ],
   "source": [
    "print(arr[0:2, 1:3]) #Extract first 2 row and column 1-2 (stop index 3 is excluded)"
   ]
  },
  {
   "cell_type": "code",
   "execution_count": null,
   "id": "3faa8a60-26b1-4e7d-a55c-bc7b1c09a8ab",
   "metadata": {},
   "outputs": [],
   "source": []
  }
 ],
 "metadata": {
  "kernelspec": {
   "display_name": "Python 3",
   "language": "python",
   "name": "python3"
  },
  "language_info": {
   "codemirror_mode": {
    "name": "ipython",
    "version": 3
   },
   "file_extension": ".py",
   "mimetype": "text/x-python",
   "name": "python",
   "nbconvert_exporter": "python",
   "pygments_lexer": "ipython3",
   "version": "3.6.13"
  }
 },
 "nbformat": 4,
 "nbformat_minor": 5
}
