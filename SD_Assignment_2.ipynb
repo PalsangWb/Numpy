{
 "cells": [
  {
   "cell_type": "code",
   "execution_count": 1,
   "id": "45d367fc-2662-4b38-a6a0-8a2083b7b487",
   "metadata": {},
   "outputs": [],
   "source": [
    "import turtle\n",
    "# Draw the square\n",
    "for i in range(4):\n",
    "    turtle.forward(100)\n",
    "    turtle.right(90)\n",
    "\n",
    "# Move to center and draw filled circle\n",
    "turtle.penup()\n",
    "turtle.goto(50, 50)\n",
    "turtle.pendown()\n",
    "turtle.fillcolor(\"red\")\n",
    "turtle.begin_fill()\n",
    "turtle.circle(80)\n",
    "turtle.end_fill()"
   ]
  },
  {
   "cell_type": "code",
   "execution_count": null,
   "id": "cad23ee1-c0fe-4cf8-8c80-1480682eaccd",
   "metadata": {},
   "outputs": [],
   "source": []
  },
  {
   "cell_type": "code",
   "execution_count": null,
   "id": "cf23b4c2-5bd1-4402-bda4-5e192abea15a",
   "metadata": {},
   "outputs": [],
   "source": []
  }
 ],
 "metadata": {
  "kernelspec": {
   "display_name": "Python 3",
   "language": "python",
   "name": "python3"
  },
  "language_info": {
   "codemirror_mode": {
    "name": "ipython",
    "version": 3
   },
   "file_extension": ".py",
   "mimetype": "text/x-python",
   "name": "python",
   "nbconvert_exporter": "python",
   "pygments_lexer": "ipython3",
   "version": "3.6.13"
  }
 },
 "nbformat": 4,
 "nbformat_minor": 5
}
