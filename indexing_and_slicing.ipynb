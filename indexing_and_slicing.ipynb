{
 "cells": [
  {
   "cell_type": "code",
   "execution_count": 2,
   "id": "79c8eed2-ca13-4e3a-945b-102bc0c189cf",
   "metadata": {},
   "outputs": [],
   "source": [
    "import numpy as np"
   ]
  },
  {
   "cell_type": "code",
   "execution_count": 17,
   "id": "771cfd20-a26d-4c5b-9373-b562790b2250",
   "metadata": {},
   "outputs": [],
   "source": [
    "arr = np.array([[1,2,3,4,5], [6,7,8,9,10], [11,12,13,14,15]])"
   ]
  },
  {
   "cell_type": "code",
   "execution_count": 18,
   "id": "40e96d76-ca20-4ce8-9f63-fc52bd7f3218",
   "metadata": {},
   "outputs": [
    {
     "data": {
      "text/plain": [
       "array([[ 1,  2,  3,  4,  5],\n",
       "       [ 6,  7,  8,  9, 10],\n",
       "       [11, 12, 13, 14, 15]])"
      ]
     },
     "execution_count": 18,
     "metadata": {},
     "output_type": "execute_result"
    }
   ],
   "source": [
    "arr"
   ]
  },
  {
   "cell_type": "code",
   "execution_count": 19,
   "id": "927037a6-cacb-4485-9177-10a2164d3630",
   "metadata": {},
   "outputs": [],
   "source": [
    "flat = arr.flatten()"
   ]
  },
  {
   "cell_type": "code",
   "execution_count": 20,
   "id": "272995ac-47ff-489f-9e1b-9a96e003fef5",
   "metadata": {},
   "outputs": [
    {
     "data": {
      "text/plain": [
       "array([ 1,  2,  3,  4,  5,  6,  7,  8,  9, 10, 11, 12, 13, 14, 15])"
      ]
     },
     "execution_count": 20,
     "metadata": {},
     "output_type": "execute_result"
    }
   ],
   "source": [
    "flat"
   ]
  },
  {
   "cell_type": "code",
   "execution_count": 21,
   "id": "8c249cf8-9a81-4423-8813-a8fb71a7ee06",
   "metadata": {},
   "outputs": [
    {
     "data": {
      "text/plain": [
       "1"
      ]
     },
     "execution_count": 21,
     "metadata": {},
     "output_type": "execute_result"
    }
   ],
   "source": [
    "flat[0]"
   ]
  },
  {
   "cell_type": "code",
   "execution_count": 22,
   "id": "f0570d2f-a52b-4619-b99b-20ba0610770b",
   "metadata": {},
   "outputs": [
    {
     "data": {
      "text/plain": [
       "10"
      ]
     },
     "execution_count": 22,
     "metadata": {},
     "output_type": "execute_result"
    }
   ],
   "source": [
    "flat[9]"
   ]
  },
  {
   "cell_type": "code",
   "execution_count": 23,
   "id": "21ecdb90-1b1f-4d91-9975-f5c1a737f62d",
   "metadata": {},
   "outputs": [
    {
     "data": {
      "text/plain": [
       "array([1, 2, 3, 4, 5])"
      ]
     },
     "execution_count": 23,
     "metadata": {},
     "output_type": "execute_result"
    }
   ],
   "source": [
    "flat[0:5] "
   ]
  },
  {
   "cell_type": "code",
   "execution_count": 24,
   "id": "4adc4f77-4d3e-4333-a326-542ddf882924",
   "metadata": {},
   "outputs": [
    {
     "data": {
      "text/plain": [
       "array([2, 3, 4])"
      ]
     },
     "execution_count": 24,
     "metadata": {},
     "output_type": "execute_result"
    }
   ],
   "source": [
    "flat[1:4]"
   ]
  },
  {
   "cell_type": "code",
   "execution_count": 26,
   "id": "534086c6-bab6-4d40-81da-f667537cc808",
   "metadata": {},
   "outputs": [
    {
     "data": {
      "text/plain": [
       "array([ 1,  3,  5,  7,  9, 11, 13, 15])"
      ]
     },
     "execution_count": 26,
     "metadata": {},
     "output_type": "execute_result"
    }
   ],
   "source": [
    "flat[::2] #Every second elemet"
   ]
  },
  {
   "cell_type": "code",
   "execution_count": 39,
   "id": "2d589fae-ce44-4b3b-9d1c-dadd5008e544",
   "metadata": {},
   "outputs": [],
   "source": [
    "b = flat[3:7]"
   ]
  },
  {
   "cell_type": "code",
   "execution_count": 40,
   "id": "0d411185-4bc4-43bc-9568-7200957a4559",
   "metadata": {},
   "outputs": [
    {
     "data": {
      "text/plain": [
       "array([111,   5,   6,   7])"
      ]
     },
     "execution_count": 40,
     "metadata": {},
     "output_type": "execute_result"
    }
   ],
   "source": [
    "b"
   ]
  },
  {
   "cell_type": "code",
   "execution_count": 41,
   "id": "ccc525aa-f353-46e1-82a0-07ccc783359d",
   "metadata": {},
   "outputs": [],
   "source": [
    "b[0] = 111 #Slicing returns a view not a copy."
   ]
  },
  {
   "cell_type": "code",
   "execution_count": 45,
   "id": "d6aa8396-69cd-467f-a00e-e05e0e52a233",
   "metadata": {},
   "outputs": [
    {
     "data": {
      "text/plain": [
       "array([111,   5,   6,   7])"
      ]
     },
     "execution_count": 45,
     "metadata": {},
     "output_type": "execute_result"
    }
   ],
   "source": [
    "b"
   ]
  },
  {
   "cell_type": "code",
   "execution_count": 44,
   "id": "3e3c915b-bbb4-46dc-a97a-ef1783adeaaf",
   "metadata": {},
   "outputs": [
    {
     "data": {
      "text/plain": [
       "array([  1,   2,   3, 111,   5,   6,   7,   8,   9,  10,  11,  12,  13,\n",
       "        14,  15])"
      ]
     },
     "execution_count": 44,
     "metadata": {},
     "output_type": "execute_result"
    }
   ],
   "source": [
    "flat"
   ]
  },
  {
   "cell_type": "code",
   "execution_count": 49,
   "id": "dac0994e-0d03-4666-89af-8143baccd80c",
   "metadata": {},
   "outputs": [],
   "source": [
    "arr1 = np.array([1,2,3,4,5,6,7,8,9])"
   ]
  },
  {
   "cell_type": "code",
   "execution_count": 51,
   "id": "914fd83c-70f3-461e-ae16-23ed731c36b9",
   "metadata": {},
   "outputs": [
    {
     "data": {
      "text/plain": [
       "array([2, 5, 7])"
      ]
     },
     "execution_count": 51,
     "metadata": {},
     "output_type": "execute_result"
    }
   ],
   "source": [
    "arr1[[1,4,6]]"
   ]
  },
  {
   "cell_type": "code",
   "execution_count": null,
   "id": "67c1e5dc-2090-41bc-89d6-6647dee07c87",
   "metadata": {},
   "outputs": [],
   "source": []
  }
 ],
 "metadata": {
  "kernelspec": {
   "display_name": "Python 3",
   "language": "python",
   "name": "python3"
  },
  "language_info": {
   "codemirror_mode": {
    "name": "ipython",
    "version": 3
   },
   "file_extension": ".py",
   "mimetype": "text/x-python",
   "name": "python",
   "nbconvert_exporter": "python",
   "pygments_lexer": "ipython3",
   "version": "3.6.13"
  }
 },
 "nbformat": 4,
 "nbformat_minor": 5
}
