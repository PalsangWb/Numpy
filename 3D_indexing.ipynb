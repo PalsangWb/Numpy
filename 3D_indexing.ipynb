{
 "cells": [
  {
   "cell_type": "code",
   "execution_count": 2,
   "id": "a531fa74-5b3a-4adf-8e56-ecb8521998ae",
   "metadata": {},
   "outputs": [],
   "source": [
    "import numpy as np"
   ]
  },
  {
   "cell_type": "code",
   "execution_count": 7,
   "id": "4d38b475-65c3-4667-a8e3-3ee20adabb47",
   "metadata": {},
   "outputs": [],
   "source": [
    "# 3D (dimensional)\n",
    "arr = np.array([[\n",
    "    [1, 2, 3], [4, 5, 6], [1, 2, 4],\n",
    "    [7, 8, 9], [10, 11, 12], [1, 1, 1]\n",
    "]])"
   ]
  },
  {
   "cell_type": "code",
   "execution_count": 8,
   "id": "24bc80f7-2acc-4121-b126-c3e4ab56c09a",
   "metadata": {},
   "outputs": [
    {
     "name": "stdout",
     "output_type": "stream",
     "text": [
      "[[[ 1  2  3]\n",
      "  [ 4  5  6]\n",
      "  [ 1  2  4]\n",
      "  [ 7  8  9]\n",
      "  [10 11 12]\n",
      "  [ 1  1  1]]]\n"
     ]
    }
   ],
   "source": [
    "print(arr)"
   ]
  },
  {
   "cell_type": "code",
   "execution_count": 9,
   "id": "d74a8ec6-f7de-4298-954d-16bee5d3d8b5",
   "metadata": {},
   "outputs": [
    {
     "name": "stdout",
     "output_type": "stream",
     "text": [
      "(1, 6, 3)\n"
     ]
    }
   ],
   "source": [
    "print(arr.shape) # Output of arr.shape is → (depth, rows, columns)"
   ]
  },
  {
   "cell_type": "code",
   "execution_count": 41,
   "id": "00c3ad22-3e50-4ee5-a37e-1bf56abe66e2",
   "metadata": {},
   "outputs": [],
   "source": [
    "# 3D (dimensional)\n",
    "arr1 = np.array([\n",
    "    [[1, 2, 3], [4, 5, 6]],\n",
    "    [[11, 21, 31], [42, 52, 62]]\n",
    "])"
   ]
  },
  {
   "cell_type": "code",
   "execution_count": 13,
   "id": "ba7480b5-52ab-47ce-872d-3c8b644a6145",
   "metadata": {},
   "outputs": [
    {
     "name": "stdout",
     "output_type": "stream",
     "text": [
      "(2, 2, 3)\n"
     ]
    }
   ],
   "source": [
    "print(arr1.shape) # Output of arr.shape is → (depth, rows, columns)"
   ]
  },
  {
   "cell_type": "code",
   "execution_count": 29,
   "id": "e1509a22-98c4-4ff5-9526-230da08818bb",
   "metadata": {},
   "outputs": [
    {
     "name": "stdout",
     "output_type": "stream",
     "text": [
      "6\n"
     ]
    }
   ],
   "source": [
    "print(arr1[0, 1, 2])  # Access layer 0, row 1, column 2 → gets value 6"
   ]
  },
  {
   "cell_type": "code",
   "execution_count": 20,
   "id": "fcaff978-bdc6-4ca7-974a-a6d0cdc71ea5",
   "metadata": {},
   "outputs": [
    {
     "name": "stdout",
     "output_type": "stream",
     "text": [
      "6\n"
     ]
    }
   ],
   "source": [
    "print(arr1[1, 1, 2])"
   ]
  },
  {
   "cell_type": "code",
   "execution_count": 21,
   "id": "64828b16-4a7c-4654-b96d-d6c95469ee7d",
   "metadata": {},
   "outputs": [
    {
     "name": "stdout",
     "output_type": "stream",
     "text": [
      "3\n"
     ]
    }
   ],
   "source": [
    "print(arr1[1, 0, 2])"
   ]
  },
  {
   "cell_type": "code",
   "execution_count": 32,
   "id": "5cab402d-58b7-46d8-b00d-f5640bad2a6b",
   "metadata": {},
   "outputs": [
    {
     "name": "stdout",
     "output_type": "stream",
     "text": [
      "[[ 1  2  3]\n",
      " [11 21 31]]\n"
     ]
    }
   ],
   "source": [
    "#Get row only\n",
    "first_row = arr1[:, 0, :] #Get first row from both depth\n",
    "print(first_row)"
   ]
  },
  {
   "cell_type": "code",
   "execution_count": 44,
   "id": "b4c204bb-6d08-4ca9-9fb1-ddb8aba0cc88",
   "metadata": {},
   "outputs": [
    {
     "name": "stdout",
     "output_type": "stream",
     "text": [
      "[[ 1  4]\n",
      " [11 42]]\n"
     ]
    }
   ],
   "source": [
    "#Get column only\n",
    "first_column = arr1[:, :, 0] #Get first column only from all layer and all row.\n",
    "print(first_column)"
   ]
  },
  {
   "cell_type": "code",
   "execution_count": 45,
   "id": "75cc156b-255e-4c6a-9715-bed854c46348",
   "metadata": {},
   "outputs": [
    {
     "name": "stdout",
     "output_type": "stream",
     "text": [
      "[[[ 1  0  3]\n",
      "  [ 4  0  6]]\n",
      "\n",
      " [[11  0 31]\n",
      "  [42  0 62]]]\n"
     ]
    }
   ],
   "source": [
    "arr1[:,:,1] = 0 #Selective column changes.\n",
    "print(arr1)"
   ]
  },
  {
   "cell_type": "code",
   "execution_count": null,
   "id": "7d6b2d67-813b-4a5a-82f8-18197b63bd94",
   "metadata": {},
   "outputs": [],
   "source": []
  }
 ],
 "metadata": {
  "kernelspec": {
   "display_name": "Python 3",
   "language": "python",
   "name": "python3"
  },
  "language_info": {
   "codemirror_mode": {
    "name": "ipython",
    "version": 3
   },
   "file_extension": ".py",
   "mimetype": "text/x-python",
   "name": "python",
   "nbconvert_exporter": "python",
   "pygments_lexer": "ipython3",
   "version": "3.6.13"
  }
 },
 "nbformat": 4,
 "nbformat_minor": 5
}
