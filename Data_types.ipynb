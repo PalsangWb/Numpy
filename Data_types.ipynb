{
 "cells": [
  {
   "cell_type": "code",
   "execution_count": 6,
   "id": "7373b47e-a1c6-4214-9f84-34aea077a8e1",
   "metadata": {},
   "outputs": [
    {
     "name": "stdout",
     "output_type": "stream",
     "text": [
      "int32\n"
     ]
    }
   ],
   "source": [
    "import numpy as np\n",
    "arr = np.array([1, 2, 3, 4, 6])\n",
    "print(arr.dtype) #int64 or int32 depending on the system."
   ]
  },
  {
   "cell_type": "code",
   "execution_count": 15,
   "id": "759eac09-c414-4926-a76a-31e03e2f155d",
   "metadata": {},
   "outputs": [],
   "source": [
    "arr1 = np.array([1.1, 2.232342, 3.32234, 4.4, 5.5])"
   ]
  },
  {
   "cell_type": "code",
   "execution_count": 16,
   "id": "d0440ac4-c9eb-4014-8f2e-49ee8f1ff09b",
   "metadata": {},
   "outputs": [
    {
     "name": "stdout",
     "output_type": "stream",
     "text": [
      "float64\n"
     ]
    }
   ],
   "source": [
    "print(arr1.dtype)"
   ]
  },
  {
   "cell_type": "code",
   "execution_count": 17,
   "id": "489c5934-9909-40e5-b954-dc7d00ac81e5",
   "metadata": {},
   "outputs": [],
   "source": [
    "arr1_int = arr1.astype(np.int64)"
   ]
  },
  {
   "cell_type": "code",
   "execution_count": 18,
   "id": "b92f4b38-e3f7-4ea5-9bae-cb59582d8cb9",
   "metadata": {},
   "outputs": [
    {
     "name": "stdout",
     "output_type": "stream",
     "text": [
      "[1 2 3 4 5]\n"
     ]
    }
   ],
   "source": [
    "print(arr1_int)"
   ]
  },
  {
   "cell_type": "code",
   "execution_count": 20,
   "id": "2c535e28-67b8-4b61-9a61-bfa66fd77d39",
   "metadata": {},
   "outputs": [
    {
     "name": "stdout",
     "output_type": "stream",
     "text": [
      "int64\n"
     ]
    }
   ],
   "source": [
    "print(arr1_int.dtype)"
   ]
  },
  {
   "cell_type": "code",
   "execution_count": 21,
   "id": "45d0ec3a-2149-47d6-9445-50335d8aa5c4",
   "metadata": {},
   "outputs": [],
   "source": [
    "#Downcasting to save memory\n",
    "arr_large = np.array([1000, 2000, 3000, 4000], dtype = np.int64)"
   ]
  },
  {
   "cell_type": "code",
   "execution_count": 26,
   "id": "eb88981b-8fc1-4ed7-a855-f174f0e8bdad",
   "metadata": {},
   "outputs": [],
   "source": [
    "arr_small = arr_large.astype(np.int32)"
   ]
  },
  {
   "cell_type": "code",
   "execution_count": 33,
   "id": "f9c1136d-6f6e-4a0e-a5cb-e801a53c80c7",
   "metadata": {},
   "outputs": [
    {
     "name": "stdout",
     "output_type": "stream",
     "text": [
      "[1000 2000 3000 4000]\n",
      "[1000 2000 3000 4000]\n",
      "int64\n",
      "int32\n"
     ]
    }
   ],
   "source": [
    "print(arr_large)\n",
    "print(arr_small)\n",
    "print(arr_large.dtype)\n",
    "print(arr_small.dtype)\n",
    "#The output is same but the space they are occupying is different."
   ]
  },
  {
   "cell_type": "code",
   "execution_count": 40,
   "id": "4baa20fb-7985-407b-bb4f-d0ed56267014",
   "metadata": {},
   "outputs": [
    {
     "name": "stdout",
     "output_type": "stream",
     "text": [
      "24\n",
      "12\n"
     ]
    }
   ],
   "source": [
    "ar_int64 = np.array([1, 2, 3], dtype = np.int64)\n",
    "ar_int32 = np.array([1, 2, 3], dtype = np.int32)\n",
    "print(ar_int64.nbytes) # Output: 24 bytes (3 elements * 8 bytes each)\n",
    "print(ar_int32.nbytes) # Output: 12 bytes (3 elements * 4 bytes each)"
   ]
  },
  {
   "cell_type": "code",
   "execution_count": 46,
   "id": "fd4de217-3b4a-431b-92be-6ac2c63c0050",
   "metadata": {},
   "outputs": [],
   "source": [
    "arr2 = np.array([1, 2, 'Palsang', \"Waiba\", \"Python\"])"
   ]
  },
  {
   "cell_type": "code",
   "execution_count": 66,
   "id": "81e9d85b-722a-42a1-a187-619fcd253f49",
   "metadata": {},
   "outputs": [
    {
     "name": "stdout",
     "output_type": "stream",
     "text": [
      "['1' '2' 'P' 'W' 'P']\n",
      "<U1\n"
     ]
    }
   ],
   "source": [
    "print(arr2) #Unicode string array\n",
    "print(arr2.dtype)"
   ]
  },
  {
   "cell_type": "code",
   "execution_count": 64,
   "id": "3a8cefe9-d652-4162-88d1-59d8bb966731",
   "metadata": {},
   "outputs": [],
   "source": [
    "arr2 = np.array([1, 2, 'Palsang', \"Waiba\", \"Python\"], dtype = 'U1')"
   ]
  },
  {
   "cell_type": "code",
   "execution_count": 67,
   "id": "0a2274b9-d61a-4e86-bbec-78021f5b176a",
   "metadata": {},
   "outputs": [
    {
     "name": "stdout",
     "output_type": "stream",
     "text": [
      "<U1\n"
     ]
    }
   ],
   "source": [
    "print(arr2.dtype)"
   ]
  },
  {
   "cell_type": "code",
   "execution_count": 72,
   "id": "c675a9f1-9d82-4e2a-aa5b-4b8ab9976737",
   "metadata": {},
   "outputs": [
    {
     "name": "stdout",
     "output_type": "stream",
     "text": [
      "[1.+2.j 3.+4.j 5.+6.j]\n"
     ]
    }
   ],
   "source": [
    "arr10 = np.array([1 + 2j, 3 + 4j, 5 + 6j], dtype='complex128')\n",
    "print(arr10)\n",
    "#Complex number data type"
   ]
  },
  {
   "cell_type": "code",
   "execution_count": 71,
   "id": "6d3e640b-7f2f-49ca-9da2-57916d2e14f6",
   "metadata": {},
   "outputs": [
    {
     "name": "stdout",
     "output_type": "stream",
     "text": [
      "[{'a': 1} list([1, 2, 3]) 'hello']\n"
     ]
    }
   ],
   "source": [
    "arr = np.array([{'a': 1}, [1, 2, 3], 'hello'], dtype=object)\n",
    "print(arr)\n",
    "#Object data type"
   ]
  },
  {
   "cell_type": "code",
   "execution_count": null,
   "id": "57edb23c-7c57-498c-9bcb-03d4065df2d6",
   "metadata": {},
   "outputs": [],
   "source": []
  }
 ],
 "metadata": {
  "kernelspec": {
   "display_name": "Python 3",
   "language": "python",
   "name": "python3"
  },
  "language_info": {
   "codemirror_mode": {
    "name": "ipython",
    "version": 3
   },
   "file_extension": ".py",
   "mimetype": "text/x-python",
   "name": "python",
   "nbconvert_exporter": "python",
   "pygments_lexer": "ipython3",
   "version": "3.6.13"
  }
 },
 "nbformat": 4,
 "nbformat_minor": 5
}
